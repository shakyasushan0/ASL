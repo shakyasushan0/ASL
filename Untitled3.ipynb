{
 "cells": [
  {
   "cell_type": "code",
   "execution_count": 1,
   "metadata": {},
   "outputs": [],
   "source": [
    "import numpy as np\n",
    "import cv2\n",
    "import pandas as pd\n",
    "import matplotlib.pyplot as plt\n",
    "import tensorflow as tf\n",
    "import keras\n",
    "from keras.preprocessing import image\n",
    "from keras.models import load_model\n"
   ]
  },
  {
   "cell_type": "code",
   "execution_count": 2,
   "metadata": {},
   "outputs": [],
   "source": [
    "model = load_model(\"ASLModel.h5\")\n",
    "def predictAlphabet(img):\n",
    "    class_names = [\"A\",\"B\",\"C\",\"D\",\"E\",\"F\",\"G\",\"H\",\"I\",\"K\",\"L\",'M','N','O','P','Q','R','S','T','U','V','W','X','Y']\n",
    "    x = image.img_to_array(img)\n",
    "    x = np.expand_dims(x, axis=0)\n",
    "    x = x/255\n",
    "    x = np.vstack([x])\n",
    "    return class_names[np.argmax(model.predict(x))]\n",
    "def runProgram():\n",
    "    cam_capture = cv2.VideoCapture(0)\n",
    "    cv2.destroyAllWindows()\n",
    "    upper_left = (10, 10)\n",
    "    bottom_right = (260, 260)\n",
    "    while True:\n",
    "        _, image_frame = cam_capture.read()\n",
    "    \n",
    "    \n",
    "    #Rectangle marker\n",
    "        r = cv2.rectangle(image_frame, upper_left, bottom_right, (100, 50, 200), 5)\n",
    "        rect_img = image_frame[upper_left[1] : bottom_right[1], upper_left[0] : bottom_right[0]]\n",
    "    \n",
    "        sketcher_rect = rect_img\n",
    "    \n",
    "        grayImg = cv2.cvtColor(sketcher_rect,cv2.COLOR_BGR2GRAY)\n",
    "        resizedImg = cv2.resize(grayImg,(28,28))\n",
    "    \n",
    "        cv2.imshow(\"Mini\",grayImg)\n",
    "        text = predictAlphabet(resizedImg)\n",
    "        cv2.putText(image_frame,text,(550,50),cv2.FONT_HERSHEY_SIMPLEX,2,(0,255,255),3,cv2.LINE_4)\n",
    "        cv2.imshow(\"Main\", image_frame)\n",
    "    \n",
    "    \n",
    "        if cv2.waitKey(1) == ord('q'):\n",
    "            break\n",
    "        \n",
    "    cam_capture.release()\n",
    "    cv2.destroyAllWindows()"
   ]
  },
  {
   "cell_type": "code",
   "execution_count": 3,
   "metadata": {},
   "outputs": [],
   "source": [
    "from PIL import Image, ImageTk"
   ]
  },
  {
   "cell_type": "code",
   "execution_count": 10,
   "metadata": {},
   "outputs": [
    {
     "name": "stdout",
     "output_type": "stream",
     "text": [
      "Selected: /home/sushan/Workspace/Major Project/20210303_182120_mfnr.jpg\n",
      "Predicted letter is: A\n",
      "96.62182331085205\n"
     ]
    }
   ],
   "source": [
    "\n",
    "# import everything from tkinter module\n",
    "from tkinter import *   \n",
    "from PIL import Image, ImageTk\n",
    "from tkinter import filedialog\n",
    " \n",
    "# create a tkinter window\n",
    "root = Tk()              \n",
    "  \n",
    "root.title(\"Sign Language Detection\")\n",
    "root.geometry(\"550x380\")\n",
    "root.resizable(0, 0)\n",
    "\n",
    "imgPath = '/home/sushan/Workspace/Major Project/archive/amer_sign2.png'\n",
    "\n",
    "\n",
    "def predictUploadedAlphabet(img_path):\n",
    "    class_names = [\"A\",\"B\",\"C\",\"D\",\"E\",\"F\",\"G\",\"H\",\"I\",\"K\",\"L\",'M','N','O','P','Q','R','S','T','U','V','W','X','Y']\n",
    "    \n",
    "    img = image.load_img(img_path, target_size=(28, 28),  color_mode=\"grayscale\")\n",
    "  \n",
    "    x = image.img_to_array(img)\n",
    "    x = np.expand_dims(x, axis=0)\n",
    "    x = x/255\n",
    "    x = np.vstack([x])\n",
    "    print(\"Predicted letter is: \"+ class_names[np.argmax(model.predict(x))])\n",
    "    print(np.max(model.predict(x))*100)\n",
    "    predicted.configure(text= \"Predicted letter is: \"+ class_names[np.argmax(model.predict(x))])\n",
    "    predictedProb.configure(text = \"Prediction Confidence is: \" + str(round(np.max(model.predict(x))*100,2)) +\"%\" )\n",
    "    \n",
    "        \n",
    "\n",
    "def UploadAction(event=None):\n",
    "    filename = filedialog.askopenfilename()\n",
    "#     root.newImg = ImageTk.PhotoImage(Image.open(filename))\n",
    "    img = Image.open(filename)\n",
    "    img = img.resize((200,200), Image.ANTIALIAS)\n",
    "    root.newImg = ImageTk.PhotoImage(img)\n",
    "    pic.configure(image=root.newImg)\n",
    "    print('Selected:', filename)\n",
    "    predictUploadedAlphabet(filename)\n",
    "    \n",
    "\n",
    "#label\n",
    "Label(root,text=\"Sign Language Detection System\",font=\"verdana 16\").pack(pady=10)\n",
    "\n",
    "#prediction class label\n",
    "predicted = Label(root,text=\"\")\n",
    "predictedProb = Label(root,text=\"\")\n",
    "\n",
    "#loading image\n",
    "imge = Image.open(imgPath).resize((200,200),Image.ANTIALIAS)\n",
    "img = ImageTk.PhotoImage(imge)\n",
    "pic = Label(root,image=img)\n",
    "\n",
    "# Create a Button\n",
    "btn = Button(root, text = 'Real Time Prediction', bd = '5',bg=\"#3498db\",\n",
    "                          command = runProgram) \n",
    "#upload button\n",
    "upload = Button(root,text=\"Upload your Picture\",bd='5',bg=\"#c0392b\",command=UploadAction)\n",
    " \n",
    "# Set the position of button on the top of window. \n",
    "pic.pack()\n",
    "predicted.pack(pady=3)\n",
    "predictedProb.pack(pady=3)\n",
    "upload.pack(pady=3)\n",
    "btn.pack(side = 'top')    \n",
    "\n",
    "root.mainloop()"
   ]
  },
  {
   "cell_type": "code",
   "execution_count": null,
   "metadata": {},
   "outputs": [],
   "source": []
  },
  {
   "cell_type": "code",
   "execution_count": null,
   "metadata": {},
   "outputs": [],
   "source": []
  },
  {
   "cell_type": "code",
   "execution_count": null,
   "metadata": {},
   "outputs": [],
   "source": []
  }
 ],
 "metadata": {
  "kernelspec": {
   "display_name": "Python 3",
   "language": "python",
   "name": "python3"
  },
  "language_info": {
   "codemirror_mode": {
    "name": "ipython",
    "version": 3
   },
   "file_extension": ".py",
   "mimetype": "text/x-python",
   "name": "python",
   "nbconvert_exporter": "python",
   "pygments_lexer": "ipython3",
   "version": "3.7.6"
  }
 },
 "nbformat": 4,
 "nbformat_minor": 4
}
